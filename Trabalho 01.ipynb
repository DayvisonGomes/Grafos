{
 "cells": [
  {
   "cell_type": "markdown",
   "metadata": {},
   "source": [
    "## Trabalho 01 - Grafos\n",
    "\n",
    "- Aluno: Dayvison Gomes de Oliveira\n",
    "- Matrícula: 20180036876\n",
    "- Professor: Teobaldo Leite"
   ]
  },
  {
   "cell_type": "code",
   "execution_count": 1,
   "metadata": {},
   "outputs": [],
   "source": [
    "import numpy as np"
   ]
  },
  {
   "cell_type": "markdown",
   "metadata": {},
   "source": [
    "## Exibindo a matriz de adjacência."
   ]
  },
  {
   "cell_type": "code",
   "execution_count": 2,
   "metadata": {},
   "outputs": [
    {
     "name": "stdout",
     "output_type": "stream",
     "text": [
      "Matriz de adjacência: \n",
      "\n",
      "0 -> [0, 1, 1, 1, 0, 0, 0]\n",
      "1 -> [1, 0, 1, 1, 0, 0, 0]\n",
      "2 -> [1, 1, 0, 1, 1, 1, 0]\n",
      "3 -> [1, 1, 1, 0, 0, 0, 0]\n",
      "4 -> [0, 0, 1, 0, 0, 1, 1]\n",
      "5 -> [0, 0, 1, 0, 1, 0, 1]\n",
      "6 -> [0, 0, 0, 0, 1, 1, 0]\n"
     ]
    }
   ],
   "source": [
    "def load_print(path):\n",
    "    arq = open(path,'r')\n",
    "\n",
    "    G = [linha.rstrip() for linha in arq]\n",
    "    G[0] = int(G[0])\n",
    "    n_V = G[0]\n",
    "    G.remove(n_V)\n",
    "\n",
    "    for i in range(len(G)):\n",
    "        G[i] = G[i].split(' ')\n",
    "    \n",
    "        for j in range(len(G[i])):\n",
    "            G[i][j] = int(G[i][j])\n",
    "    \n",
    "    arq.close()\n",
    "    \n",
    "    print('Matriz de adjacência: \\n')\n",
    "    for i in range(len(G)):\n",
    "        \n",
    "        print(f'{i} -> {G[i]}')\n",
    "    \n",
    "    return n_V, np.array(G)\n",
    "\n",
    "n_V,G = load_print('Modelo_de_grafo.txt')"
   ]
  },
  {
   "cell_type": "markdown",
   "metadata": {},
   "source": [
    "##  Graus mínimo $(\\delta(G))$, máximo $(∆(G))$ e médio / Sequência de graus de $G$."
   ]
  },
  {
   "cell_type": "code",
   "execution_count": 12,
   "metadata": {},
   "outputs": [
    {
     "name": "stdout",
     "output_type": "stream",
     "text": [
      "\n",
      "Grau mínimo: 2 -> Vértice: 7  \n",
      "Grau máximo: 5 -> Vértice: 3  \n",
      "Grau médio: 3.142857142857143\n",
      "\n",
      "Sequencia de Graus: [2 3 3 3 3 3 5]\n"
     ]
    }
   ],
   "source": [
    "def Graus(n_V,G):\n",
    "    graus = []\n",
    "    m = 0\n",
    "    \n",
    "    for i in range(len(G)):\n",
    "        graus.append(G[i].sum())\n",
    "    \n",
    "    graus = np.array(graus)\n",
    "    \n",
    "    print(f'\\nGrau mínimo: {graus[np.argmin(graus)]} -> Vértice: {np.argmin(graus)+1}  ')\n",
    "    print(f'Grau máximo: {graus[np.argmax(graus)]} -> Vértice: {np.argmax(graus)+1}  ')\n",
    "    \n",
    "    for i in range(len(G)):\n",
    "        for j in range(len(G[i])):\n",
    "            if G[i][j] == 1:\n",
    "                m += 1\n",
    "    \n",
    "    print(f'Grau médio: {m/n_V}')\n",
    "        \n",
    "    print(f'\\nSequencia de Graus: {np.sort(graus)}')\n",
    "    \n",
    "    return graus\n",
    "\n",
    "graus = Graus(n_V,G)"
   ]
  },
  {
   "cell_type": "markdown",
   "metadata": {},
   "source": [
    "## Grau e as vizinhanças aberta e fechada de um vértice v informado pelo usuário."
   ]
  },
  {
   "cell_type": "code",
   "execution_count": 9,
   "metadata": {},
   "outputs": [
    {
     "name": "stdout",
     "output_type": "stream",
     "text": [
      "\n",
      "Insira o número de um vértice: 4\n",
      "\n",
      "O vértice 4 possui 3 graus \n",
      "O vértice tem a vizinhança [2 5 6] aberta\n",
      "O vértice tem a vizinhança [2 4 5 6] fechada\n"
     ]
    }
   ],
   "source": [
    "def neighborhood(G, graus):\n",
    "    \n",
    "    v = int(input('\\nInsira o número de um vértice: '))\n",
    "    \n",
    "    while (v > (n_V-1)):\n",
    "        print('Erro, vértice não existe, insira um que exista da lista abaixo')\n",
    "        print(f'Os vértices vão de 0 até {n_V-1}\\n')\n",
    "        v = int(input(': '))\n",
    "    \n",
    "    print(f'\\nO vértice {v} possui {graus[v]} graus ')\n",
    "    \n",
    "    v_Ligados = []\n",
    "    for i in range(len(G[v])):\n",
    "        if G[v][i] == 1:\n",
    "            v_Ligados.append(i)\n",
    "    \n",
    "    v_Ligados.append(v)\n",
    "    \n",
    "    v_Ligados = np.array(v_Ligados)\n",
    "    \n",
    "    print(f'O vértice tem a vizinhança {v_Ligados[:-1]} aberta')\n",
    "    print(f'O vértice tem a vizinhança {np.sort(v_Ligados)} fechada')\n",
    "\n",
    "neighborhood(G, graus)"
   ]
  },
  {
   "cell_type": "markdown",
   "metadata": {},
   "source": [
    "## Determinar se dois vértices u e v informados pelo usuário são vizinhos."
   ]
  },
  {
   "cell_type": "code",
   "execution_count": 10,
   "metadata": {},
   "outputs": [
    {
     "name": "stdout",
     "output_type": "stream",
     "text": [
      "\n",
      "Insira um vértice u: 2\n",
      "Insira um vértice v: 3\n",
      "\n",
      "São vizinhos\n"
     ]
    }
   ],
   "source": [
    "def neighbor(G):\n",
    "    \n",
    "    u = int(input('\\nInsira um vértice u: '))\n",
    "    v = int(input('Insira um vértice v: '))\n",
    "    \n",
    "    if G[u][v] == 1:\n",
    "        print('\\nSão vizinhos')\n",
    "    else:\n",
    "        print('\\nNão são vizinhos')\n",
    "\n",
    "neighbor(G)"
   ]
  },
  {
   "cell_type": "markdown",
   "metadata": {},
   "source": [
    "## Informar se o grafo é k-regular, deixando claro o valor de k."
   ]
  },
  {
   "cell_type": "code",
   "execution_count": 11,
   "metadata": {},
   "outputs": [
    {
     "name": "stdout",
     "output_type": "stream",
     "text": [
      "\n",
      "Digite um valor de k: 3\n",
      "\n",
      "Não é 3-regular\n"
     ]
    }
   ],
   "source": [
    "def regular(graus):\n",
    "\n",
    "    k = int(input('\\nDigite um valor de k: '))\n",
    "    \n",
    "    if np.mean(graus) == k:\n",
    "        print(f'\\nÉ {k}-regular')\n",
    "    \n",
    "    else:\n",
    "        print(f'\\nNão é {k}-regular')\n",
    "\n",
    "regular(graus)"
   ]
  },
  {
   "cell_type": "markdown",
   "metadata": {},
   "source": [
    "## Informar se G é completo."
   ]
  },
  {
   "cell_type": "code",
   "execution_count": 13,
   "metadata": {},
   "outputs": [
    {
     "name": "stdout",
     "output_type": "stream",
     "text": [
      "\n",
      "O grafo não é completo\n"
     ]
    }
   ],
   "source": [
    "def complete(graus):\n",
    "    \n",
    "    if (np.mean(graus) == n_V - 1):\n",
    "        print('\\nO grafo é completo')\n",
    "        \n",
    "    else:\n",
    "        print('\\nO grafo não é completo')\n",
    "\n",
    "complete(graus)"
   ]
  },
  {
   "cell_type": "markdown",
   "metadata": {},
   "source": [
    "## Listar todos os vértices universais de G."
   ]
  },
  {
   "cell_type": "code",
   "execution_count": 14,
   "metadata": {},
   "outputs": [
    {
     "name": "stdout",
     "output_type": "stream",
     "text": [
      "\n",
      "Este grafo não possui vértices universais\n"
     ]
    }
   ],
   "source": [
    "def universal(graus):\n",
    "    \n",
    "    v_Universal = []\n",
    "    \n",
    "    for i in range(len(graus)):\n",
    "        if (graus[i] == n_V - 1):\n",
    "            v_Universal.append(i)\n",
    "    \n",
    "    if len(v_Universal) == 0:\n",
    "        print('\\nEste grafo não possui vértices universais')\n",
    "    \n",
    "    else:\n",
    "        print(f'\\nLista com os vértices universais: {np.sort(v_Universal)}')\n",
    "\n",
    "universal(graus)"
   ]
  },
  {
   "cell_type": "markdown",
   "metadata": {},
   "source": [
    "## Listar todos os vértices isolados de G."
   ]
  },
  {
   "cell_type": "code",
   "execution_count": 15,
   "metadata": {},
   "outputs": [
    {
     "name": "stdout",
     "output_type": "stream",
     "text": [
      "\n",
      "Este grafo não possui vértices isolados\n"
     ]
    }
   ],
   "source": [
    "def isolated(graus):\n",
    "    \n",
    "    v_Isolados = []\n",
    "    \n",
    "    for i in range(len(graus)):\n",
    "        if graus[i] == 0:\n",
    "            v_Isolados.append(i)\n",
    "     \n",
    "    if len(v_Isolados) == 0:\n",
    "        print('\\nEste grafo não possui vértices isolados')\n",
    "    \n",
    "    else:\n",
    "        print(f'\\nLista com os vértices isolados: {np.sort(v_Isolados)}')\n",
    "        \n",
    "isolated(graus)"
   ]
  },
  {
   "cell_type": "markdown",
   "metadata": {},
   "source": [
    "## Determinar o subgrafo de $G$ induzido por um conjunto de vértices $S ⊆ V(G)$ informado pelo usuário. Tal subgrafo é denotado por $G[S]$."
   ]
  },
  {
   "cell_type": "code",
   "execution_count": 17,
   "metadata": {},
   "outputs": [
    {
     "name": "stdout",
     "output_type": "stream",
     "text": [
      "\n",
      "Digite uma sequência de vértices (ex: 0,2,3 ):  0,1,2\n",
      "\n",
      "Subgrafo Induzido G[S]: \n",
      "\n",
      "[[0. 1. 1.]\n",
      " [1. 0. 1.]\n",
      " [1. 1. 0.]]\n"
     ]
    }
   ],
   "source": [
    "def subgraph_V(G):\n",
    "     \n",
    "    n = input(\"\\nDigite uma sequência de vértices (ex: 0,2,3 ):  \").split(',')\n",
    "    vert = [int(i) for i in n]\n",
    "    tam = len(vert)\n",
    "    \n",
    "    H = np.zeros((tam,tam))\n",
    "    \n",
    "    print('\\nSubgrafo Induzido G[S]: ')\n",
    "    \n",
    "    for i in range(len(G)):\n",
    "        for j in range(len(G[i])):\n",
    "            if G[i][j] == 1 and i in vert and j in vert:\n",
    "                H[i][j] = 1\n",
    "            \n",
    "    print(f'\\n{H}')\n",
    "\n",
    "subgraph_V(G) "
   ]
  },
  {
   "cell_type": "markdown",
   "metadata": {},
   "source": [
    "## Determinar o subgrafo de $G$ induzido por um conjunto de arestas $E^{'} ⊆ E(G)$ informado pelo usuário. Tal subgrafo é denotado por $G[E^{'}]$."
   ]
  },
  {
   "cell_type": "code",
   "execution_count": 18,
   "metadata": {},
   "outputs": [
    {
     "name": "stdout",
     "output_type": "stream",
     "text": [
      "\n",
      "Digite uma sequência de arestas (ex: 01,12,23): 01,13,56\n",
      "\n",
      "Subgrafo Induzido G[E']: \n",
      "\n",
      "[[0. 1. 0. 0. 0. 0. 0.]\n",
      " [1. 0. 0. 1. 0. 0. 0.]\n",
      " [0. 0. 0. 0. 0. 0. 0.]\n",
      " [0. 1. 0. 0. 0. 0. 0.]\n",
      " [0. 0. 0. 0. 0. 0. 0.]\n",
      " [0. 0. 0. 0. 0. 0. 1.]\n",
      " [0. 0. 0. 0. 0. 1. 0.]]\n"
     ]
    }
   ],
   "source": [
    "def subgraph_E(n_V,G):\n",
    "    \n",
    "    arestas = input(\"\\nDigite uma sequência de arestas (ex: 01,12,23): \").split(',')\n",
    "    \n",
    "    aux = [(int(num[0]), int(num[1])) for num in arestas]\n",
    "    \n",
    "    arestas = np.array(aux)\n",
    "    tam = len(np.unique(arestas))\n",
    "    S = np.zeros((n_V,n_V))\n",
    "    \n",
    "    print(\"\\nSubgrafo Induzido G[E']: \")\n",
    "    for tupla in arestas:\n",
    "        if G[tupla[0]][tupla[1]] == 1:\n",
    "            S[tupla[0]][tupla[1]] = 1\n",
    "            S[tupla[1]][tupla[0]] = 1\n",
    "    \n",
    "    print(f\"\\n{S}\")\n",
    "\n",
    "subgraph_E(n_V,G)"
   ]
  },
  {
   "cell_type": "markdown",
   "metadata": {},
   "source": [
    "## Decidir se uma sequência de vêrtices $v_{1}, v_2, ..., v_k$ informada pelo usuário representa um passeio em $G$. Em casa afirmativo, informar se o passeio também constitui um ciclo ou um caminho."
   ]
  },
  {
   "cell_type": "code",
   "execution_count": 20,
   "metadata": {},
   "outputs": [
    {
     "name": "stdout",
     "output_type": "stream",
     "text": [
      "\n",
      "Digite uma sequência de vértices (ex: 0,2,3 ):  0,1,2,3,0\n",
      "\n",
      "É um passeio\n",
      "\n",
      "E também é um ciclo\n"
     ]
    }
   ],
   "source": [
    "def walk(G):\n",
    "    \n",
    "    n = input(\"\\nDigite uma sequência de vértices (ex: 0,2,3 ):  \").split(',')\n",
    "    \n",
    "    seq_v = [int(num) for num in n]\n",
    "    \n",
    "    passeio = True\n",
    "    caminho = True\n",
    "    \n",
    "    aux_dic = {}\n",
    "        \n",
    "    for v in np.unique(seq_v):\n",
    "        aux_dic[v] = False\n",
    "    \n",
    "    for j in range(len(seq_v)-1):\n",
    "        if G[seq_v[j]][seq_v[j+1]] == 0:\n",
    "            print('\\nNão é um passeio')\n",
    "            passeio = False       \n",
    "            break\n",
    "        \n",
    "        else:\n",
    "            if aux_dic[seq_v[j]] == False:\n",
    "                aux_dic[seq_v[j]] = True\n",
    "            \n",
    "            else:\n",
    "                caminho = False\n",
    "    \n",
    "    if aux_dic[seq_v[-1]] == True and seq_v[-1] != seq_v[0]:\n",
    "        caminho = False\n",
    "\n",
    "    if passeio:\n",
    "        print('\\nÉ um passeio')\n",
    "        \n",
    "        if caminho:\n",
    "    \n",
    "            if seq_v[-1] == seq_v[0]:\n",
    "                print('\\nE também é um ciclo')\n",
    "    \n",
    "            else:\n",
    "                print('\\nE também é um caminho')\n",
    "\n",
    "walk(G)"
   ]
  },
  {
   "cell_type": "markdown",
   "metadata": {},
   "source": [
    "## Determinar se um conjunto de vértices $S ⊆ V(G)$ informado pelo usuário é uma clique de $G$. Em caso afirmativo, informar se a clique é maximal."
   ]
  },
  {
   "cell_type": "code",
   "execution_count": 45,
   "metadata": {},
   "outputs": [
    {
     "name": "stdout",
     "output_type": "stream",
     "text": [
      "\n",
      "Digite uma sequência de vértices (ex: 0,2,3 ):  0,1,2,3,4\n",
      "\n",
      "[[0. 1. 1. 1. 0.]\n",
      " [1. 0. 1. 1. 0.]\n",
      " [1. 1. 0. 1. 1.]\n",
      " [1. 1. 1. 0. 0.]\n",
      " [0. 0. 1. 0. 0.]]\n",
      "\n",
      "O subgrafo acima não é uma clique de G\n"
     ]
    }
   ],
   "source": [
    "def click(G):\n",
    "    n = input(\"\\nDigite uma sequência de vértices (ex: 0,2,3 ):  \").split(',')\n",
    "    \n",
    "    seq_v = [int(num) for num in n]\n",
    "    tamanho = len(seq_v)\n",
    "    H = np.zeros((tamanho,tamanho))\n",
    "    \n",
    "    graus = []\n",
    "    \n",
    "    for i in range(len(G)):\n",
    "        for j in range(len(G[i])):\n",
    "            if G[i][j] == 1 and i in seq_v and j in seq_v:\n",
    "                H[i][j] = 1\n",
    "    \n",
    "    print(f'\\n{H}')\n",
    "    \n",
    "    for i in range(len(H)):\n",
    "        graus.append(H[i].sum())\n",
    "    \n",
    "    graus = np.array(graus)\n",
    "    cont = 0\n",
    "    \n",
    "    for i in range(len(graus)-1):\n",
    "        if graus[i] == graus[i+1]:\n",
    "            cont += 1\n",
    "        else:\n",
    "            break\n",
    "    \n",
    "    if cont == len(graus) - 1:\n",
    "        print(\"\\nO subgrafo acima é uma clique de G\")\n",
    "    else:\n",
    "        print(\"\\nO subgrafo acima não é uma clique de G\")\n",
    "    \n",
    "        \n",
    "click(G)"
   ]
  }
 ],
 "metadata": {
  "kernelspec": {
   "display_name": "Python 3",
   "language": "python",
   "name": "python3"
  },
  "language_info": {
   "codemirror_mode": {
    "name": "ipython",
    "version": 3
   },
   "file_extension": ".py",
   "mimetype": "text/x-python",
   "name": "python",
   "nbconvert_exporter": "python",
   "pygments_lexer": "ipython3",
   "version": "3.7.9"
  }
 },
 "nbformat": 4,
 "nbformat_minor": 4
}
