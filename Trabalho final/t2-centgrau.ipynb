{
 "cells": [
  {
   "cell_type": "markdown",
   "metadata": {
    "collapsed": true,
    "pycharm": {
     "name": "#%% md\n"
    }
   },
   "source": [
    "# Análise de redes e medidas de centralidade\n",
    "\n",
    "Em seguida, vamos aprender sobre algumas técnicas de análise que são aplicadas em grafos em geral, e\n",
    "em grafos de redes sociais em particular.\n",
    "\n",
    "Uma das análises comuns é descobrir nós que são particularmente importantes na rede. Isso nos leva\n",
    "às chamadas *medidas de centralidade*, que representam o nível de importância, ou *centralidade*\n",
    "de um nó na rede. Duas medidas de centralidade são bastante utilizadas:\n",
    "\n",
    "- Centralidade de grau (*degree centrality*)\n",
    "- Centralidade de intermediação (*betweenness centrality*)\n",
    "\n",
    "\n",
    "## Centralidade de grau\n",
    "\n",
    "A centralidade de grau é baseada na ideia que nós com graus mais altos estão conectado a um número maior\n",
    "de outros nós, e isso pode se traduzir em influência ou outras formas de importância. Por exemplo, em uma\n",
    "rede social (cujos nós são pessoas) uma pessoa com grau alto está conectado a um grande número de pessoas,\n",
    "e portanto pode-se considerar que essa pessoa tem influência mais alta que outra pessoa com grau menor.\n",
    "No caso de uma rede social online, ter grau alto geralmente significa que suas publicações vão ser vistas por\n",
    "mais pessoas.\n",
    "\n",
    "Vamos demonstrar algumas das ideias com um grafo pequeno, e depois as atividades serão baseadas na rede de atores."
   ]
  },
  {
   "cell_type": "code",
   "execution_count": 1,
   "metadata": {
    "pycharm": {
     "name": "#%%\n"
    }
   },
   "outputs": [
    {
     "data": {
      "image/png": "[encoded data removed]",
      "text/plain": [
       "<Figure size 432x288 with 1 Axes>"
      ]
     },
     "metadata": {},
     "output_type": "display_data"
    }
   ],
   "source": [
    "import networkx as nx\n",
    "import matplotlib.pyplot as plt\n",
    "\n",
    "G = nx.Graph()\n",
    "for i in range(10):\n",
    "    G.add_node(i)\n",
    "\n",
    "for j in range(1, 10):\n",
    "    G.add_edge(0, j)\n",
    "\n",
    "G.add_edge(2, 3)\n",
    "G.add_edge(3, 4)\n",
    "G.add_edge(5, 6)\n",
    "G.add_edge(7, 8)\n",
    "\n",
    "nx.draw(G, with_labels=True, font_color=\"white\")\n",
    "plt.show()"
   ]
  },
  {
   "cell_type": "markdown",
   "metadata": {
    "pycharm": {
     "name": "#%% md\n"
    }
   },
   "source": [
    "Neste grafo, vemos que o nó 0 tem grau maior que os outros, então ele aparenta ser mais \"central\" no grafo. O nó\n",
    "3 também está mais conectado que a maioria dos outros, exceto o nó 0. O grau do nó 0 é 9, do nó 3 tem grau 3, os\n",
    "nós 2, 4, 5, 6, 7 e 8 têm grau 2, e os nós 1 e 9 têm grau 1. Nessa medida, o nó 0 seria o mais importante, seguido\n",
    "pelo nó 3, depois os nós de grau 2, e por fim os nós de grau 1 como os menos importantes.\n",
    "\n",
    "A medida de centralidade do grau é uma normalização do grau de cada nó na rede, com relação ao grau\n",
    "máximo que um nó poderia chegar nesse grafo. A centralidade de grau do nó $n$, $dc(n)$ pode ser calculada\n",
    "da seguinte forma:\n",
    "\n",
    "$$dc(n) = \\frac{gr(n)}{D}$$\n",
    "\n",
    "onde $gr(n)$ é o grau do nó $n$ e $D$ é o grau máximo que o nó poderia ter. Em geral, $D = N-1$, onde $N$ é\n",
    "o número de nós no grafo. Ou seja, o grau máximo normalmente vai ser igual ao número de nós menos 1, que\n",
    "é o maior número de nós com os quais um nó pode estar ligado.\n",
    "\n",
    "Isso significa que, dentro do mesmo grafo, a centralidade de grau do nó, $dc(n)$ sempre vai ser proporcional\n",
    "ao grau do nó, e podemos comparar a centralidade de grau de nós diferentes apenas comparando o grau. Para\n",
    "comparar nós em grafos diferentes, a normalização pode ser mais interessante.\n",
    "\n",
    "### Obtendo o grau de um nó\n",
    "\n",
    "Usando NetworkX, é fácil obter o grau do nó através da propriedade `degree` do grafo, que\n",
    "é indexada pelo identificador do nó:"
   ]
  },
  {
   "cell_type": "code",
   "execution_count": 2,
   "metadata": {
    "pycharm": {
     "name": "#%%\n"
    }
   },
   "outputs": [
    {
     "name": "stdout",
     "output_type": "stream",
     "text": [
      "O grau do nó 0 é 9\n",
      "O grau do nó 1 é 1\n",
      "O grau do nó 2 é 2\n",
      "O grau do nó 3 é 3\n",
      "O grau do nó 4 é 2\n",
      "O grau do nó 5 é 2\n",
      "O grau do nó 6 é 2\n",
      "O grau do nó 7 é 2\n",
      "O grau do nó 8 é 2\n",
      "O grau do nó 9 é 1\n"
     ]
    }
   ],
   "source": [
    "def imprime_grau(n):\n",
    "    print(f\"O grau do nó {n} é {G.degree[n]}\")\n",
    "\n",
    "for n in G.nodes(data=False):\n",
    "    imprime_grau(n)"
   ]
  },
  {
   "cell_type": "markdown",
   "metadata": {
    "pycharm": {
     "name": "#%% md\n"
    }
   },
   "source": [
    "Embora seja simples de calcular, a centralidade de grau pode ser obtida diretamente da biblioteca\n",
    "NetworkX usando a função `nx.degree_centrality`. Essa função retorna um dicionário cuja chave é o identificador\n",
    "do nó e os valores são os valores de centralidade."
   ]
  },
  {
   "cell_type": "code",
   "execution_count": 3,
   "metadata": {
    "pycharm": {
     "name": "#%%\n"
    }
   },
   "outputs": [
    {
     "name": "stdout",
     "output_type": "stream",
     "text": [
      "O centralidade de grau do nó 0 é 1.0\n",
      "O centralidade de grau do nó 1 é 0.1111111111111111\n",
      "O centralidade de grau do nó 2 é 0.2222222222222222\n",
      "O centralidade de grau do nó 3 é 0.3333333333333333\n",
      "O centralidade de grau do nó 4 é 0.2222222222222222\n",
      "O centralidade de grau do nó 5 é 0.2222222222222222\n",
      "O centralidade de grau do nó 6 é 0.2222222222222222\n",
      "O centralidade de grau do nó 7 é 0.2222222222222222\n",
      "O centralidade de grau do nó 8 é 0.2222222222222222\n",
      "O centralidade de grau do nó 9 é 0.1111111111111111\n"
     ]
    }
   ],
   "source": [
    "centralidade_G = nx.degree_centrality(G)\n",
    "\n",
    "for n in G.nodes(data=False):\n",
    "    print(f\"O centralidade de grau do nó {n} é {centralidade_G[n]}\")\n"
   ]
  },
  {
   "cell_type": "markdown",
   "metadata": {
    "pycharm": {
     "name": "#%% md\n"
    }
   },
   "source": [
    "Vemos que o nó 0 tem o maior valor de centralidade de grau possível, 1, pois ele está \n",
    "conectado a todos os outros nós do grafo. \n",
    "\n",
    "A seguir vamos fazer algumas atividades com esses conceitos. \n",
    "\n",
    "# Atividades\n",
    "\n",
    "Primeiramente, é preciso carregar o grafo de atores que foi preparado previamente a partir dos dados do IMDb:"
   ]
  },
  {
   "cell_type": "code",
   "execution_count": 6,
   "metadata": {
    "pycharm": {
     "name": "#%%\n"
    }
   },
   "outputs": [],
   "source": [
    "rede_atores = nx.read_gexf(\"grafo_atores.gexf\")"
   ]
  },
  {
   "cell_type": "markdown",
   "metadata": {
    "pycharm": {
     "name": "#%% md\n"
    }
   },
   "source": [
    "## 1. Interpretação da centralidade de grau\n",
    "\n",
    "Em uma rede de aeroportos e vôos (como a que foi explorada na atividade anterior) o que significa\n",
    "um nó (aeroporto) com alto valor para a centralidade do grau?\n",
    "\n",
    "R: Seria que ele possui um grau elevado, com isso, não seria necessário gastar tempo e dinheiro tendo que passar por um ou mais aeroportos antes de chegar no destino final.\n",
    "\n",
    "## 2. Cálculo dos graus na rede de atores\n",
    "\n",
    "Crie uma lista com os valores do grau de cada nó da lista de atores. Por exemplo, no grafo\n",
    "`G` dos exemplos acima, a lista de graus seria:"
   ]
  },
  {
   "cell_type": "code",
   "execution_count": 7,
   "metadata": {
    "pycharm": {
     "name": "#%%\n"
    }
   },
   "outputs": [],
   "source": [
    "graus_G = [9, 1, 2, 3, 2, 2, 2, 2, 2, 1]"
   ]
  },
  {
   "cell_type": "markdown",
   "metadata": {
    "pycharm": {
     "name": "#%% md\n"
    }
   },
   "source": [
    "Não é necessário que a lista esteja ordenada, apenas que esteja registrado o grau de cada nó, mesmo com\n",
    "valores repetidos, pois vamos usar essa lista posteriormente para observar a distribuição dos\n",
    "graus ao longo do grafo.\n",
    "\n",
    "*Dica*: A forma mais compacta de fazer isso é usando uma compreensão de lista (*list comprehension*) da\n",
    "linguagem Python. Mas também é possível usar um loop."
   ]
  },
  {
   "cell_type": "code",
   "execution_count": 8,
   "metadata": {
    "pycharm": {
     "name": "#%%\n"
    }
   },
   "outputs": [],
   "source": [
    "# TODO: calcula os graus de cada nó da rede de atores\n",
    "\n",
    "lista_graus = [rede_atores.degree(n) for n in rede_atores.nodes()]"
   ]
  },
  {
   "cell_type": "markdown",
   "metadata": {
    "pycharm": {
     "name": "#%% md\n"
    }
   },
   "source": [
    "## 3. Histograma dos graus\n",
    "\n",
    "Baseado na lista criada no item anterior, crie um histograma para visualizar a distribuição dos graus\n",
    "na rede de atores. Use a função `hist` do pacote `plt`. Analise o resultado visualizado no histograma,\n",
    "por exemplo, existem mais nós de grau baixo ou alto? A distribuição de graus segue algum padrão e, caso\n",
    "siga, é o padrão esperado para esse tipo de rede? Justifique suas respostas, e veja se consegue obter\n",
    "outras conclusões a partir da distribuição observada."
   ]
  },
  {
   "cell_type": "code",
   "execution_count": 9,
   "metadata": {
    "pycharm": {
     "name": "#%%\n"
    }
   },
   "outputs": [
    {
     "data": {
      "image/png": "[encoded data removed]",
      "text/plain": [
       "<Figure size 864x432 with 1 Axes>"
      ]
     },
     "metadata": {
      "needs_background": "light"
     },
     "output_type": "display_data"
    }
   ],
   "source": [
    "# TODO: cria histograma dos graus na rede de atores\n",
    "\n",
    "plt.figure(figsize=(12,6))\n",
    "plt.grid()\n",
    "plt.title('Histograma dos Graus')\n",
    "plt.hist(lista_graus, bins=200)\n",
    "plt.show()"
   ]
  },
  {
   "cell_type": "markdown",
   "metadata": {},
   "source": [
    "Existem mais nós de grau baixo, o que conseguimos ver é que muitos atores conhecem poucos atores, alguns chegam a conhecer muitos, acredito que nesse ramo possa existir concerrência, o que resulta na falta de amizade entre os atores."
   ]
  },
  {
   "cell_type": "markdown",
   "metadata": {
    "pycharm": {
     "name": "#%% md\n"
    }
   },
   "source": [
    "## 4. Análise de nós com grau alto\n",
    "\n",
    "Quais são os cinco valores de grau mais alto na rede? Quantas pessoas estão associadas a nós com esses valores\n",
    "de grau? (Por exemplo, digamos que os dois maiores valores sejam grau 30 e 28; quantos nós têm grau 30,\n",
    "quantos têm grau 28, e assim por diante). Selecione alguns nós de cada um desses valores de grau, ache quem\n",
    "são as pessoas associadas aos nós e faça uma análise (se são atores famosos, aparecem em muitos filmes etc)."
   ]
  },
  {
   "cell_type": "code",
   "execution_count": 10,
   "metadata": {
    "pycharm": {
     "name": "#%%\n"
    }
   },
   "outputs": [
    {
     "data": {
      "text/plain": [
       "[927, 749, 651, 619, 603]"
      ]
     },
     "execution_count": 10,
     "metadata": {},
     "output_type": "execute_result"
    }
   ],
   "source": [
    "# TODO: obter maior grau na rede, e nós que possuem esse grau\n",
    "import numpy as np\n",
    "\n",
    "k = 5\n",
    "ind_graus = np.argsort(lista_graus)[::-1][:k]\n",
    "maiores_graus = [lista_graus[ind] for ind in ind_graus]\n",
    "maiores_graus"
   ]
  },
  {
   "cell_type": "code",
   "execution_count": 11,
   "metadata": {},
   "outputs": [
    {
     "data": {
      "text/plain": [
       "{927: [1, 'nm0103977'],\n",
       " 749: [1, 'nm0000616'],\n",
       " 651: [1, 'nm0007106'],\n",
       " 619: [1, 'nm0149822'],\n",
       " 603: [1, 'nm0430803']}"
      ]
     },
     "execution_count": 11,
     "metadata": {},
     "output_type": "execute_result"
    }
   ],
   "source": [
    "dic = {}\n",
    "\n",
    "for grau in maiores_graus:\n",
    "    dic[grau] = [0]\n",
    "    \n",
    "for n in rede_atores.nodes():\n",
    "    for grau in maiores_graus:\n",
    "        if rede_atores.degree(n) == grau:\n",
    "            dic[grau].append(n)\n",
    "            dic[grau][0] += 1\n",
    "\n",
    "dic"
   ]
  },
  {
   "cell_type": "code",
   "execution_count": 12,
   "metadata": {},
   "outputs": [
    {
     "name": "stdout",
     "output_type": "stream",
     "text": [
      "Brahmanandam\n",
      "Eric Roberts\n",
      "Shakti Kapoor\n",
      "Mithun Chakraborty\n",
      "Mohan Joshi\n"
     ]
    }
   ],
   "source": [
    "for key in dic:\n",
    "    print(rede_atores.nodes()[dic[key][1]]['nome'])"
   ]
  },
  {
   "cell_type": "markdown",
   "metadata": {},
   "source": [
    "São todos homens acima dos 60 anos que começaram cedo no ramo do cinema e do teatro, então é aceitável que eles conheçam muitos atores."
   ]
  },
  {
   "cell_type": "markdown",
   "metadata": {
    "pycharm": {
     "name": "#%% md\n"
    }
   },
   "source": [
    "## 5. Busca por nome\n",
    "\n",
    "Crie uma função que busca um ator no grafo por nome, e retorna o identificador desse ator.\n",
    "\n",
    "**Opcional**: Como acertar a grafia exata do nome do ator às vezes pode ser difícil, pesquise e implemente\n",
    "uma busca com imprecisões (*fuzzy search*). Na biblioteca padrão da linguagem Python existe o `SequenceMatcher` no\n",
    "pacote `difflib`, e existem pacotes externos que calculam distância de Levenshtein e outras métricas usadas para\n",
    "*fuzzy matching*.\n",
    "\n",
    "Escolha um ator ou atriz do seu interesse. Busque na rede para obter o identificador da pessoa no grafo, e\n",
    "calcule o grau do nó associado."
   ]
  },
  {
   "cell_type": "code",
   "execution_count": 13,
   "metadata": {},
   "outputs": [
    {
     "name": "stdout",
     "output_type": "stream",
     "text": [
      "Requirement already satisfied: jellyfish in c:\\programdata\\anaconda3\\lib\\site-packages (0.8.9)\n"
     ]
    }
   ],
   "source": [
    "!pip install jellyfish"
   ]
  },
  {
   "cell_type": "code",
   "execution_count": 22,
   "metadata": {
    "pycharm": {
     "name": "#%%\n"
    }
   },
   "outputs": [],
   "source": [
    "# TODO: busca um nó específico no grafo de atores, pelo nome\n",
    "import difflib as diff\n",
    "import jellyfish as jf\n",
    "\n",
    "\n",
    "def busca_pessoa(nome):\n",
    "    \n",
    "    for n, node in rede_atores.nodes(data=True):\n",
    "        if node['nome'] == nome:\n",
    "            return rede_atores.nodes()[n]['label']\n",
    "    \n",
    "    return None\n",
    "\n",
    "def fuzzy_search(nome_):\n",
    "    for n, node in rede_atores.nodes(data=True):\n",
    "        distance = jf.levenshtein_distance(nome_, node['nome'])\n",
    "                \n",
    "        if distance <= 4:  \n",
    "            return node['nome'], node['label']\n",
    "    \n",
    "    return None"
   ]
  },
  {
   "cell_type": "code",
   "execution_count": 28,
   "metadata": {},
   "outputs": [
    {
     "data": {
      "text/plain": [
       "'nm0000616'"
      ]
     },
     "execution_count": 28,
     "metadata": {},
     "output_type": "execute_result"
    }
   ],
   "source": [
    "identificador = busca_pessoa('Eric Roberts')\n",
    "identificador"
   ]
  },
  {
   "cell_type": "code",
   "execution_count": 29,
   "metadata": {},
   "outputs": [
    {
     "data": {
      "text/plain": [
       "749"
      ]
     },
     "execution_count": 29,
     "metadata": {},
     "output_type": "execute_result"
    }
   ],
   "source": [
    "rede_atores.degree(identificador)"
   ]
  },
  {
   "cell_type": "code",
   "execution_count": 24,
   "metadata": {},
   "outputs": [
    {
     "data": {
      "text/plain": [
       "('Eric Roberts', 'nm0000616')"
      ]
     },
     "execution_count": 24,
     "metadata": {},
     "output_type": "execute_result"
    }
   ],
   "source": [
    "fuzzy_search('Eric Robe')"
   ]
  },
  {
   "cell_type": "code",
   "execution_count": 25,
   "metadata": {},
   "outputs": [
    {
     "data": {
      "text/plain": [
       "('Shakti Kapoor', 'nm0007106')"
      ]
     },
     "execution_count": 25,
     "metadata": {},
     "output_type": "execute_result"
    }
   ],
   "source": [
    "fuzzy_search('Shakti Kap')"
   ]
  },
  {
   "cell_type": "code",
   "execution_count": 26,
   "metadata": {},
   "outputs": [
    {
     "data": {
      "text/plain": [
       "('Mithun Chakraborty', 'nm0149822')"
      ]
     },
     "execution_count": 26,
     "metadata": {},
     "output_type": "execute_result"
    }
   ],
   "source": [
    "fuzzy_search('Mitun Chacrabort')"
   ]
  },
  {
   "cell_type": "markdown",
   "metadata": {
    "pycharm": {
     "name": "#%% md\n"
    }
   },
   "source": [
    "## 6. Cálculo da centralidade de grau\n",
    "\n",
    "Crie uma função para calcular a centralidade de grau de um nó do grafo. Essa função pode\n",
    "ser genérica para qualquer grafo ou pode ser específica para o grafo de atores.\n",
    "\n",
    "A biblioteca NetworkX já inclui uma função para calcular a centralidade de grau de um\n",
    "nó, a função `nx.degree_centrality`. Selecione alguns nós do grafo de atores e teste sua função, comparando\n",
    "com o valor obtido pela função `nx.degree_centrality`."
   ]
  },
  {
   "cell_type": "code",
   "execution_count": 157,
   "metadata": {
    "pycharm": {
     "name": "#%%\n"
    }
   },
   "outputs": [],
   "source": [
    "# TODO: Calcula a centralidade de grau do nó n no grafo G\n",
    "def centralidade_grau(G, n):\n",
    "    i = 0\n",
    "    \n",
    "    for node in G.nodes():\n",
    "        i += 1\n",
    "        \n",
    "        if node == n:\n",
    "            grau_n = lista_graus[i-1]\n",
    "            \n",
    "            return grau_n / ( G.number_of_nodes() - 1 )\n",
    "        \n",
    "    return None"
   ]
  },
  {
   "cell_type": "code",
   "execution_count": 158,
   "metadata": {},
   "outputs": [
    {
     "data": {
      "text/plain": [
       "0.0012785191709596916"
      ]
     },
     "execution_count": 158,
     "metadata": {},
     "output_type": "execute_result"
    }
   ],
   "source": [
    "centralidade_grau(rede_atores, 'nm0000616')"
   ]
  },
  {
   "cell_type": "code",
   "execution_count": 148,
   "metadata": {},
   "outputs": [],
   "source": [
    "centrality = nx.degree_centrality(rede_atores)"
   ]
  },
  {
   "cell_type": "code",
   "execution_count": 156,
   "metadata": {},
   "outputs": [
    {
     "data": {
      "text/plain": [
       "0.0012785191709596916"
      ]
     },
     "execution_count": 156,
     "metadata": {},
     "output_type": "execute_result"
    }
   ],
   "source": [
    "centrality['nm0000616']"
   ]
  }
 ],
 "metadata": {
  "kernelspec": {
   "display_name": "Python 3 (ipykernel)",
   "language": "python",
   "name": "python3"
  },
  "language_info": {
   "codemirror_mode": {
    "name": "ipython",
    "version": 3
   },
   "file_extension": ".py",
   "mimetype": "text/x-python",
   "name": "python",
   "nbconvert_exporter": "python",
   "pygments_lexer": "ipython3",
   "version": "3.9.7"
  }
 },
 "nbformat": 4,
 "nbformat_minor": 1
}
