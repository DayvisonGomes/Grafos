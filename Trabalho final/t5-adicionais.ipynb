{
 "cells": [
  {
   "cell_type": "markdown",
   "metadata": {
    "collapsed": true,
    "pycharm": {
     "name": "#%% md\n"
    }
   },
   "source": [
    "# Atividades adicionais\n",
    "\n",
    "Nesta etapa vamos fazer algumas atividades para explorar alguns outros conceitos relacionados\n",
    "à análise de redes e manipulação de grafos com NetworkX.\n",
    "\n",
    "## 1. Outras medidas de centralidade\n",
    "\n",
    "Pesquise sobre alguma outra medida de centralidade, por exemplo centralidade de proximidade (*closeness centrality*)\n",
    "ou PageRank. Descreva de forma sucinta a medida, o quê ela representa em um grafo, e onde pode ser utilizada.\n",
    "Essa medida poderia ser utilizada para analisar alguma informaçao interessante nos grafos que foram usados nas\n",
    "etapas anteriores (grafo de atores ou grafo de aeroportos)?\n",
    "\n",
    "**-R: A centralidade de proximidade pode ser considerada como uma medida de rapidez, para determinar a velocidade que ela necessitará para difundir informações de s a todos os outros nós sequencialmente. Em grafos conectados existe uma distância natural métrica entre todos os pares de nós, definido pelo comprimento de seus caminhos mais curtos. O afastamento de um nó s é definido como a soma de suas distâncias para todos os outros nós, e sua proximidade é definida como o inverso do afastamento. Assim, quanto mais central é o nó, menor é a distância do seu total para todos os outros nós. Calculando a medida de centralidade de proximidade de algum ator, saberiamos se ele está próximo de todos os outros atores ou não, assim, saberiamos mais rapidamente se esse ator conhece muitos atores ou não, quanto mais central ele for, mais próximo de todos os outros.**\n",
    "\n",
    "**Opcional**: Implemente a análise sugerida usando a medida de centralidade pesquisada, no grafo de atores ou\n",
    "no grafo de aeroportos. A biblioteca NetworkX já tem a implementação de muitas medidas de centralidade, pesquise\n",
    "a documentação da biblioteca para verificar se a medida de centralidade que você pesquisou já está implementada.\n",
    "\n",
    "## 2. Outros recortes no grafo de atores\n",
    "\n",
    "O grafo de atores que construímos inclui atores e atrizes que participam de filmes produzidos a partir de 1980.\n",
    "Pense em outro recorte para esses dados, por exemplo apenas os filmes de alguma década específica, ou filmes\n",
    "de algum gênero específico, ou mesmo um grafo de atores de séries.\n",
    "\n",
    "**-R: Poderia ser feito alguns cortes, seja dos filmes dos anos 2000 e 2010, ou podemos pegar os filmes que são do genêro de terror.**\n",
    "\n",
    "**Opcional**: Refaça a preparaçao dos dados, obtendo apenas o recorte de interesse para os dados, e\n",
    "construa o grafo a partir dos dados selecionados.\n",
    "\n",
    "**Opcional**: Faça as análises de centralidade de grau e centralidade de intermediação para o grafo\n",
    "construído.\n",
    "\n",
    "## 3. Outros tipos de grafos\n",
    "\n",
    "Que outros tipos de grafos você acharia interessante de analisar com as ferramentas que estudamos? Que tipos\n",
    "de análises poderiam ser feitas e quais medidas utilizadas?\n",
    "\n",
    "\n",
    "**-R: Rotas de entregas, distribuição de energia, no caso das rotas de entregas pode ser feito uma análise para descobrir quais regiões possuem as maiores quantidades de entregas e quais os tipos de produtos que eles mais entregam. Na distribuição de energia, poderiamos ver as regiões que possuem um alto consumo de energia e tentar entender o motivo por trás disso.**\n",
    "\n",
    "**Opcional**: Procure na internet uma fonte de dados que poderia ser usada para construir um grafo como\n",
    "sugerido na resposta deste item. Qual seria a dificuldade de colocar os dados na forma de um grafo?\n",
    "\n",
    "**Opcional**: Crie o grafo a partir da fonte de dados pesquisada.\n",
    "\n",
    "**Opcional**: Com o grafo construído, implemente as análises sugeridas.\n"
   ]
  }
 ],
 "metadata": {
  "kernelspec": {
   "display_name": "Python 3 (ipykernel)",
   "language": "python",
   "name": "python3"
  },
  "language_info": {
   "codemirror_mode": {
    "name": "ipython",
    "version": 3
   },
   "file_extension": ".py",
   "mimetype": "text/x-python",
   "name": "python",
   "nbconvert_exporter": "python",
   "pygments_lexer": "ipython3",
   "version": "3.9.7"
  }
 },
 "nbformat": 4,
 "nbformat_minor": 1
}
