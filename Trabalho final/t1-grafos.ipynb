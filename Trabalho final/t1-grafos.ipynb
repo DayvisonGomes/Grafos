{
 "cells": [
  {
   "cell_type": "markdown",
   "metadata": {
    "collapsed": true,
    "pycharm": {
     "name": "#%% md\n"
    }
   },
   "source": [
    "# Grafos com NetworkX\n",
    "\n",
    "A biblioteca [NetworkX](https://networkx.org/) (da linguagem Python) é uma ferramenta consolidada e bastante\n",
    "utilizada para aplicações que lidam com grafos, incluindo aplicações de análise de redes sociais. Nesta parte\n",
    "da atividade vamos ver alguns exemplos do uso básico da biblioteca, e fazer algumas tarefas simples, como\n",
    "preparação para as tarefas de análise que faremos à frente.\n",
    "\n",
    "NetworkX tem a capacidade de funcionar juntamente com a biblioteca de visualização matplotlib. Vamos usar\n",
    "ambas para visualizar os exemplos:"
   ]
  },
  {
   "cell_type": "code",
   "execution_count": 1,
   "metadata": {
    "pycharm": {
     "name": "#%%\n"
    }
   },
   "outputs": [],
   "source": [
    "import networkx as nx\n",
    "import matplotlib.pyplot as plt"
   ]
  },
  {
   "cell_type": "markdown",
   "metadata": {
    "pycharm": {
     "name": "#%% md\n"
    }
   },
   "source": [
    "Como acontece com outras bibliotecas da linguagem Python, é comum importar a biblioteca `networkx` com o nome\n",
    "`nx` e a biblioteca `matplotlib.pyplot` (uma parte da matplotlib) como `plt`.\n",
    "\n",
    "## Tipos de grafos\n",
    "\n",
    "Usando NetworkX, podemos criar os tipos de grafos que encontramos nas aplicações:\n",
    "- grafos direcionados\n",
    "- grafos não-direcionados\n",
    "- multi-grafos (direcionados ou não)\n",
    "\n",
    "O tipo de grafo é escolhido durante a construção. Como exemplo, vamos criar um grafo não-direcionado e\n",
    "armazená-lo em uma variável com nome `G`:"
   ]
  },
  {
   "cell_type": "code",
   "execution_count": 2,
   "metadata": {
    "pycharm": {
     "name": "#%%\n"
    }
   },
   "outputs": [],
   "source": [
    "G = nx.Graph()"
   ]
  },
  {
   "cell_type": "markdown",
   "metadata": {
    "pycharm": {
     "name": "#%% md\n"
    }
   },
   "source": [
    "Usamos o construtor `Graph()` para grafos não-direcionados; se fosse um grafo direcionado, usaríamos\n",
    "`DiGraph()`. Para multigrafos, usaríamos `MultiGraph()` e `MultiDiGraph()`. A biblioteca também\n",
    "inclui geradores para criar certas topologias comuns de grafos.\n",
    "\n",
    "Neste ponto, `G` é um grafo vazio, sem nós e sem arestas. Podemos adicionar os nós e arestas individualmente:"
   ]
  },
  {
   "cell_type": "code",
   "execution_count": 3,
   "metadata": {
    "pycharm": {
     "name": "#%%\n"
    }
   },
   "outputs": [],
   "source": [
    "# adicionamos os nós 0, 1, 2, 3 e 4\n",
    "G.add_node(0)\n",
    "G.add_node(1)\n",
    "G.add_node(2)\n",
    "G.add_node(3)\n",
    "\n",
    "# adicionamos algumas arestas\n",
    "G.add_edge(0, 1)\n",
    "G.add_edge(1, 2)\n",
    "G.add_edge(2, 3)\n",
    "G.add_edge(3, 0)"
   ]
  },
  {
   "cell_type": "markdown",
   "metadata": {
    "pycharm": {
     "name": "#%% md\n"
    }
   },
   "source": [
    "Dado esse grafo, podemos visualiza-lo usando `nx.draw()` e `plt.show()` (função da pyplot usada para mostrar\n",
    "a figura atualmente sendo construída."
   ]
  },
  {
   "cell_type": "code",
   "execution_count": 4,
   "metadata": {
    "pycharm": {
     "name": "#%%\n"
    }
   },
   "outputs": [
    {
     "data": {
      "image/png": "[encoded data removed]",
      "text/plain": [
       "<Figure size 432x288 with 1 Axes>"
      ]
     },
     "metadata": {},
     "output_type": "display_data"
    }
   ],
   "source": [
    "nx.draw(G)\n",
    "plt.show()"
   ]
  },
  {
   "cell_type": "markdown",
   "metadata": {
    "pycharm": {
     "name": "#%% md\n"
    }
   },
   "source": [
    "Nesse caso, a função `nx.draw()` escolhe o layout do grafo, que pode ser controlado com algumas opções.\n",
    "Por exemplo, podemos tentar um layout circular e incluir os identificadores dos nós:"
   ]
  },
  {
   "cell_type": "code",
   "execution_count": 5,
   "metadata": {
    "pycharm": {
     "name": "#%%\n"
    }
   },
   "outputs": [
    {
     "data": {
      "image/png": "[encoded data removed]",
      "text/plain": [
       "<Figure size 432x288 with 1 Axes>"
      ]
     },
     "metadata": {},
     "output_type": "display_data"
    }
   ],
   "source": [
    "nx.draw(G, pos=nx.circular_layout(G), with_labels=True, font_color=\"white\")\n",
    "plt.show()"
   ]
  },
  {
   "cell_type": "markdown",
   "metadata": {
    "pycharm": {
     "name": "#%% md\n"
    }
   },
   "source": [
    "No limite, podemos controlar precisamente a posição de cada nó, mas em geral isso não\n",
    "é necessário.\n",
    "\n",
    "Note que usamos números (de 0 a 3) como identificadores ou chaves dos nós. Em geral, podemos\n",
    "usar vários tipos básicos da linguagem Python, incluindo números e strings. Na nossa rede social\n",
    "de atores, serão usadas strings que identificam a pessoa unicamente no banco de dados do IMDb.\n",
    "\n",
    "## Acessando nós\n",
    "\n",
    "O grafo possui duas propriedades que possibilitam o acesso aos seus nós e arestas: `G.nodes`\n",
    "e `G.edges`. Essas propriedades podem ser acessadas como um array ou dicionário em Python (internamente,\n",
    "o grafo é representadopor um dicionário). Por exemplo"
   ]
  },
  {
   "cell_type": "code",
   "execution_count": 6,
   "metadata": {
    "pycharm": {
     "name": "#%%\n"
    }
   },
   "outputs": [
    {
     "data": {
      "text/plain": [
       "{}"
      ]
     },
     "execution_count": 6,
     "metadata": {},
     "output_type": "execute_result"
    }
   ],
   "source": [
    "G.nodes[0]"
   ]
  },
  {
   "cell_type": "markdown",
   "metadata": {
    "pycharm": {
     "name": "#%% md\n"
    }
   },
   "source": [
    "Isso mostra o \"conteúdo\" do nó 0. Esse nó não possui dados associados, apenas o identificador.\n",
    "\n",
    "Nós (e arestas) também podem ter dados associados a eles. Por exemplo, vamos adicionar um atributo `nome` ao\n",
    "nó 0:"
   ]
  },
  {
   "cell_type": "code",
   "execution_count": 7,
   "metadata": {
    "pycharm": {
     "name": "#%%\n"
    }
   },
   "outputs": [
    {
     "data": {
      "text/plain": [
       "{'nome': 'origem'}"
      ]
     },
     "execution_count": 7,
     "metadata": {},
     "output_type": "execute_result"
    }
   ],
   "source": [
    "G.nodes[0][\"nome\"] = \"origem\"\n",
    "G.nodes[0]"
   ]
  },
  {
   "cell_type": "markdown",
   "metadata": {
    "pycharm": {
     "name": "#%% md\n"
    }
   },
   "source": [
    "Note que agora, quando consultamos o mesmo nó 0, obtemos um conteúdo que é o atributo `nome`, com\n",
    "valor `origem`. Os dados associados a um nó também podem ser adicionados durante a criação do nó:"
   ]
  },
  {
   "cell_type": "code",
   "execution_count": 8,
   "metadata": {
    "pycharm": {
     "name": "#%%\n"
    }
   },
   "outputs": [
    {
     "data": {
      "text/plain": [
       "{'nome': 'terminal'}"
      ]
     },
     "execution_count": 8,
     "metadata": {},
     "output_type": "execute_result"
    }
   ],
   "source": [
    "G.add_node(4, nome=\"terminal\")\n",
    "G.add_edge(0, 4)\n",
    "G.nodes[4]"
   ]
  },
  {
   "cell_type": "markdown",
   "metadata": {
    "pycharm": {
     "name": "#%% md\n"
    }
   },
   "source": [
    "Também podemos usar `G.nodes` para iterar por todos os nós do grafo, fazendo alguma ação\n",
    "em cada nó. Por exemplo, podemos imprimir o identificador do nó:"
   ]
  },
  {
   "cell_type": "code",
   "execution_count": 9,
   "metadata": {
    "pycharm": {
     "name": "#%%\n"
    }
   },
   "outputs": [
    {
     "name": "stdout",
     "output_type": "stream",
     "text": [
      "Nó com identificador 0\n",
      "Nó com identificador 1\n",
      "Nó com identificador 2\n",
      "Nó com identificador 3\n",
      "Nó com identificador 4\n"
     ]
    }
   ],
   "source": [
    "for n in G.nodes():\n",
    "    print(f\"Nó com identificador {n}\")"
   ]
  },
  {
   "cell_type": "markdown",
   "metadata": {
    "pycharm": {
     "name": "#%% md\n"
    }
   },
   "source": [
    "Também podemos obter os dados associados a cada nó, se quisermos fazer uma busca no\n",
    "nó por algum atributo, por exemplo. Vamos criar um novo grafo com rotas entre\n",
    "algumas cidades fictícias:"
   ]
  },
  {
   "cell_type": "code",
   "execution_count": 10,
   "metadata": {
    "pycharm": {
     "name": "#%%\n"
    }
   },
   "outputs": [
    {
     "data": {
      "image/png": "[encoded data removed]",
      "text/plain": [
       "<Figure size 432x288 with 1 Axes>"
      ]
     },
     "metadata": {},
     "output_type": "display_data"
    }
   ],
   "source": [
    "cidades = nx.Graph()\n",
    "cidades.add_node(0, nome=\"Gotham\")\n",
    "cidades.add_node(1, nome=\"Metropolis\")\n",
    "cidades.add_node(2, nome=\"Arrakeen\")\n",
    "cidades.add_node(3, nome=\"Sigil\")\n",
    "cidades.add_node(4, nome=\"Atlantida\")\n",
    "\n",
    "cidades.add_edge(0, 1)\n",
    "cidades.add_edge(0, 3)\n",
    "cidades.add_edge(1, 3)\n",
    "cidades.add_edge(2, 3)\n",
    "cidades.add_edge(4, 3)\n",
    "\n",
    "nx.draw(cidades, with_labels=True, font_color=\"white\")\n",
    "plt.show()"
   ]
  },
  {
   "cell_type": "markdown",
   "metadata": {
    "pycharm": {
     "name": "#%% md\n"
    }
   },
   "source": [
    "Agora digamos que queremos encontrar a cidade de Sigil, mas não sabemos seu identificador\n",
    "no grafo. Podemos fazer uma busca por todos os nós e verificar qual possui o atributo\n",
    "`nome` com valor igual a `Sigil`. Para obter os atributos dos nós, passamos o parâmetro\n",
    "`data=True` para a função `nodes()` do grafo. Nesse caso o iterador vai gerar dois valores\n",
    "por vez: o identificador do nó e os atributos do nó, coletados em um dicionário:"
   ]
  },
  {
   "cell_type": "code",
   "execution_count": 11,
   "metadata": {
    "pycharm": {
     "name": "#%%\n"
    }
   },
   "outputs": [
    {
     "name": "stdout",
     "output_type": "stream",
     "text": [
      "O identificador de Sigil é 3\n"
     ]
    }
   ],
   "source": [
    "for n, d in cidades.nodes(data=True):\n",
    "    if d[\"nome\"] == \"Sigil\":\n",
    "        print(f\"O identificador de Sigil é {n}\")"
   ]
  },
  {
   "cell_type": "markdown",
   "metadata": {
    "pycharm": {
     "name": "#%% md\n"
    }
   },
   "source": [
    "## Acessando arestas\n",
    "\n",
    "Arestas são representadas como pares entre os identificadores dos nós ligados por ela.\n",
    "A propriedade `edges` do grafo contém todas as arestas, por exemplo no grafo das\n",
    "cidades acima:"
   ]
  },
  {
   "cell_type": "code",
   "execution_count": 12,
   "metadata": {
    "pycharm": {
     "name": "#%%\n"
    }
   },
   "outputs": [
    {
     "data": {
      "text/plain": [
       "EdgeView([(0, 1), (0, 3), (1, 3), (2, 3), (3, 4)])"
      ]
     },
     "execution_count": 12,
     "metadata": {},
     "output_type": "execute_result"
    }
   ],
   "source": [
    "cidades.edges"
   ]
  },
  {
   "cell_type": "markdown",
   "metadata": {
    "pycharm": {
     "name": "#%% md\n"
    }
   },
   "source": [
    "Neste conjunto de arestas, podemos ver que existem arestas entre os nós 0 e 3, e entre os nós 2 e 3,\n",
    "por exemplo. Com isso podemos encontrar os nós adjacentes (vizinhos) de um nó, por exemplo,\n",
    "mas é mais prático fazer de outra forma, como veremos a seguir. Podemos adicionar atributos de\n",
    "dados nas arestas usando a propriedade `edges`:"
   ]
  },
  {
   "cell_type": "code",
   "execution_count": 13,
   "metadata": {
    "pycharm": {
     "name": "#%%\n"
    }
   },
   "outputs": [],
   "source": [
    "cidades.edges[0, 1][\"rota\"] = \"estrada\"\n",
    "cidades.edges[3, 4][\"rota\"] = \"portal inter-dimensional\""
   ]
  },
  {
   "cell_type": "markdown",
   "metadata": {
    "pycharm": {
     "name": "#%% md\n"
    }
   },
   "source": [
    "Podemos agora criar uma função que imprime que tipo de rota existe entre duas cidades,\n",
    "se houver:"
   ]
  },
  {
   "cell_type": "code",
   "execution_count": 14,
   "metadata": {
    "pycharm": {
     "name": "#%%\n"
    }
   },
   "outputs": [
    {
     "name": "stdout",
     "output_type": "stream",
     "text": [
      "A rota entre Sigil e Atlantida é do tipo portal inter-dimensional\n"
     ]
    }
   ],
   "source": [
    "def encontra_cidade(cidade):\n",
    "    for n, d in cidades.nodes(data=True):\n",
    "        if d[\"nome\"] == cidade:\n",
    "            return n\n",
    "    return None\n",
    "\n",
    "def imprime_rota(cidade1, cidade2):\n",
    "    no1 = encontra_cidade(cidade1)\n",
    "    no2 = encontra_cidade(cidade2)\n",
    "    if no1 and no2:\n",
    "        print(f\"A rota entre {cidade1} e {cidade2} é do tipo {cidades.edges[no1, no2]['rota']}\")\n",
    "\n",
    "imprime_rota(\"Sigil\", \"Atlantida\")"
   ]
  },
  {
   "cell_type": "markdown",
   "metadata": {
    "pycharm": {
     "name": "#%% md\n"
    }
   },
   "source": [
    "## Vizinhos de um nó\n",
    "\n",
    "A propriedade `neighbors()` lista todos os nós adjacentes de um nó. Por exemplo, vamos\n",
    "ver todos os vizinhos do nó 0:"
   ]
  },
  {
   "cell_type": "code",
   "execution_count": 15,
   "metadata": {
    "pycharm": {
     "name": "#%%\n"
    }
   },
   "outputs": [
    {
     "data": {
      "text/plain": [
       "<dict_keyiterator at 0x1f279214770>"
      ]
     },
     "execution_count": 15,
     "metadata": {},
     "output_type": "execute_result"
    }
   ],
   "source": [
    "cidades.neighbors(0)"
   ]
  },
  {
   "cell_type": "markdown",
   "metadata": {
    "pycharm": {
     "name": "#%% md\n"
    }
   },
   "source": [
    "O valor retornado é um iterador da linguagem Python, que não lista diretamente os nós\n",
    "vizinhos. Uma forma de ver quais são os vizinhos é transformar esse iterador em uma lista:"
   ]
  },
  {
   "cell_type": "code",
   "execution_count": 16,
   "metadata": {
    "pycharm": {
     "name": "#%%\n"
    }
   },
   "outputs": [
    {
     "data": {
      "text/plain": [
       "[1, 3]"
      ]
     },
     "execution_count": 16,
     "metadata": {},
     "output_type": "execute_result"
    }
   ],
   "source": [
    "list(cidades.neighbors(0))"
   ]
  },
  {
   "cell_type": "markdown",
   "metadata": {
    "pycharm": {
     "name": "#%% md\n"
    }
   },
   "source": [
    "Ou podemos usar o iterador para escrever um loop que vai visitar cada nó:"
   ]
  },
  {
   "cell_type": "code",
   "execution_count": 17,
   "metadata": {
    "pycharm": {
     "name": "#%%\n"
    }
   },
   "outputs": [
    {
     "name": "stdout",
     "output_type": "stream",
     "text": [
      "Nó 0 é vizinho do nó 3.\n",
      "Nó 1 é vizinho do nó 3.\n",
      "Nó 2 é vizinho do nó 3.\n",
      "Nó 4 é vizinho do nó 3.\n"
     ]
    }
   ],
   "source": [
    "for v in cidades.neighbors(3):\n",
    "    print(f\"Nó {v} é vizinho do nó 3.\")"
   ]
  },
  {
   "cell_type": "markdown",
   "metadata": {
    "pycharm": {
     "name": "#%% md\n"
    }
   },
   "source": [
    "# Atividades\n",
    "\n",
    "## 1. Criação de um grafo\n",
    "\n",
    "Usando a biblioteca NetworkX, crie um grafo (não-direcionado) com pelo menos 10 cidades que possuem\n",
    "aeroportos para vôos comerciais (pode ser no Brasil ou qualquer país). Você pode usar como identificador\n",
    "do nó um número pequeno simples, ou uma string contendo o código internacional do aeroporto\n",
    "(JPA, REC, GRU, YYZ, etc). Crie arestas entre\n",
    "dois nós se as cidades correspondentes estão ligadas por algum vôo direto. Por exemplo,\n",
    "se tivermos nós correspondentes a João Pessoa e Recife, os nós devem ser ligados por uma\n",
    "aresta, pois existe um vôo direto entre as duas cidades. Os nós devem possuir um atributo\n",
    "`nome` que especifica o nome da cidade ou aeroporto.\n",
    "\n",
    "**Opcional**: Adicione outros atributos nos nós (cidades), por exemplo a altitude em relação\n",
    "ao nível do mar, ou a população da cidade.\n",
    "\n",
    "**Opcional**: Adicione um atributo de dados nas arestas, contendo a distância em linha reta\n",
    "entre as duas cidades."
   ]
  },
  {
   "cell_type": "code",
   "execution_count": 4,
   "metadata": {
    "pycharm": {
     "name": "#%%\n"
    }
   },
   "outputs": [],
   "source": [
    "aeroportos = nx.Graph()  \n",
    "\n",
    "cidades =  {\"JP\": [\"João Pessoa\",817511],\"RE\": [\"Recife\",1555000],\"BSB\":[\"Brasilia\",3094325],\"SP\":[\"São Paulo\",12330000],\n",
    "            \"FOR\":[\"Fortaleza\",2687000],\"RJ\":[\"Rio de Janeiro\",6748000],\"MAC\":[\"Maceió\",1025000],\"POA\":[\"Porto Alegre\",1492530],\n",
    "            \"TER\":[\"Teresina\",868075],\"FLO\":[\"Florianópolis\",508826]}\n",
    "\n",
    "for i in cidades:\n",
    "    aeroportos.add_node(i, cidade = cidades[i][0], populacao = cidades[i][1])\n",
    "\n",
    "passagens = {\"JP\":[\"RJ\",\"SP\"],\"RE\":[\"SP\",\"RJ\",\"POA\",\"FOR\"], \"BSB\":[\"SP\",\"FOR\",\"FLO\"],\n",
    "             \"SP\":[\"RJ\",\"BSB\",\"POA\",\"FLO\"], \"FOR\":[\"RE\",\"SP\",\"RJ\"], \"RJ\":[\"JP\",\"RE\",\"SP\",\"POA\"],\n",
    "             \"MAC\":[\"SP\"],\"POA\":[\"SP\",\"RJ\",\"FLO\"], \"TER\":[\"FOR\"],\"FLO\":[\"POA\"]}\n",
    "\n",
    "for i in passagens:\n",
    "    for j in passagens[i]:\n",
    "        aeroportos.add_edge(i,j)"
   ]
  },
  {
   "cell_type": "code",
   "execution_count": 5,
   "metadata": {},
   "outputs": [
    {
     "data": {
      "text/plain": [
       "NodeView(('JP', 'RE', 'BSB', 'SP', 'FOR', 'RJ', 'MAC', 'POA', 'TER', 'FLO'))"
      ]
     },
     "execution_count": 5,
     "metadata": {},
     "output_type": "execute_result"
    }
   ],
   "source": [
    "aeroportos.nodes()"
   ]
  },
  {
   "cell_type": "markdown",
   "metadata": {
    "pycharm": {
     "name": "#%% md\n"
    }
   },
   "source": [
    "## 2. Visualização do grafo\n",
    "\n",
    "Crie uma visualização do grafo construído, usando `nx.draw()`. Se quiser, altere as opções\n",
    "para imprimir os identificadores dos nós, ou algum atributo como o nome (para isso vai ser\n",
    "necessário pesquisar a documentação da biblioteca NetworkX)."
   ]
  },
  {
   "cell_type": "code",
   "execution_count": 6,
   "metadata": {
    "pycharm": {
     "name": "#%%\n"
    }
   },
   "outputs": [
    {
     "data": {
      "image/png": "[encoded data removed]",
      "text/plain": [
       "<Figure size 432x288 with 1 Axes>"
      ]
     },
     "metadata": {},
     "output_type": "display_data"
    }
   ],
   "source": [
    "nx.draw(aeroportos, pos=nx.circular_layout(aeroportos), with_labels=True, font_color='white')\n",
    "plt.show()"
   ]
  },
  {
   "cell_type": "markdown",
   "metadata": {
    "pycharm": {
     "name": "#%% md\n"
    }
   },
   "source": [
    "## 3. Varredura dos nós\n",
    "\n",
    "Faça um loop que imprime cada nó do seu grafo, incluindo o nome de cada cidade (ou aeroporto).\n",
    "Se tiver incluído outros atributos nos nós, imprima-os também.\n",
    "\n",
    "**Opcional**: Se tiver adicionado algum atributo numérico nos nós (por exemplo, população), calcule\n",
    "a soma (ou média) dos valores de todos os atributos e imprima o total ou a média no final do loop."
   ]
  },
  {
   "cell_type": "code",
   "execution_count": 7,
   "metadata": {},
   "outputs": [
    {
     "data": {
      "text/plain": [
       "{'cidade': 'João Pessoa', 'populacao': 817511}"
      ]
     },
     "execution_count": 7,
     "metadata": {},
     "output_type": "execute_result"
    }
   ],
   "source": [
    "aeroportos.nodes['JP']"
   ]
  },
  {
   "cell_type": "code",
   "execution_count": 8,
   "metadata": {
    "pycharm": {
     "name": "#%%\n"
    }
   },
   "outputs": [
    {
     "name": "stdout",
     "output_type": "stream",
     "text": [
      "Node: JP\n",
      "João Pessoa\n",
      "817511\n",
      "\n",
      "Node: RE\n",
      "Recife\n",
      "1555000\n",
      "\n",
      "Node: BSB\n",
      "Brasilia\n",
      "3094325\n",
      "\n",
      "Node: SP\n",
      "São Paulo\n",
      "12330000\n",
      "\n",
      "Node: FOR\n",
      "Fortaleza\n",
      "2687000\n",
      "\n",
      "Node: RJ\n",
      "Rio de Janeiro\n",
      "6748000\n",
      "\n",
      "Node: MAC\n",
      "Maceió\n",
      "1025000\n",
      "\n",
      "Node: POA\n",
      "Porto Alegre\n",
      "1492530\n",
      "\n",
      "Node: TER\n",
      "Teresina\n",
      "868075\n",
      "\n",
      "Node: FLO\n",
      "Florianópolis\n",
      "508826\n",
      "\n",
      "Soma: 31126267\tMédia: 3112626.7 \n"
     ]
    }
   ],
   "source": [
    "soma = 0\n",
    "\n",
    "for node in aeroportos.nodes:\n",
    "    print(f'Node: {node}')\n",
    "    \n",
    "    for key in aeroportos.nodes[node]:\n",
    "        print(f'{aeroportos.nodes[node][key]}')\n",
    "    \n",
    "    soma += aeroportos.nodes[node]['populacao']\n",
    "    print('')\n",
    "\n",
    "print(f'Soma: {soma}\\tMédia: {soma/len(aeroportos.nodes)} ')"
   ]
  },
  {
   "cell_type": "markdown",
   "metadata": {
    "pycharm": {
     "name": "#%% md\n"
    }
   },
   "source": [
    "## 4. Busca nos nós\n",
    "\n",
    "Crie uma função para buscar um nó pelo nome da cidade ou aeroporto, e retorne o identificador do nó,\n",
    "se encontrado, ou `None` caso contrário. Crie outra função que\n",
    "imprima o identificador do nó, se encontrado, ou imprima uma mensagem dizendo que não existe\n",
    "um nó com esse nome, se não encontrado. Se houver outros atributos de dados no nó, imprima-os\n",
    "também.\n",
    "\n",
    "**Opcional**: Se houver algum atributo numérico nos nós, crie uma função para obter o\n",
    "valor máximo (ou mínimo) do atributo numérico e imprima os dados do nó que possui esse\n",
    "valor máximo (ou mínimo)."
   ]
  },
  {
   "cell_type": "code",
   "execution_count": 26,
   "metadata": {
    "pycharm": {
     "name": "#%%\n"
    }
   },
   "outputs": [],
   "source": [
    "def busca_aeroporto(nome):\n",
    "    for n, node in aeroportos.nodes(data=True):\n",
    "        if node['cidade'] == nome:\n",
    "            return n\n",
    "    return None\n",
    "\n",
    "def imprime_info_aeroporto(nome):\n",
    "    node = busca_aeroporto(nome)\n",
    "    \n",
    "    if node == None:\n",
    "        print('Não existe um nó com esse nome')    \n",
    "        \n",
    "        return True\n",
    "    \n",
    "    print(f'Identificador: {node}')\n",
    "    \n",
    "    for key in aeroportos.nodes[node]:\n",
    "        print(f'{key}: {aeroportos.nodes[node][key]}')\n",
    "\n",
    "def max_min():\n",
    "    \n",
    "    valor1 = 0\n",
    "    valor2 = 1000000000000\n",
    "    \n",
    "    for node in aeroportos.nodes():\n",
    "        \n",
    "        if aeroportos.nodes[node]['populacao'] >= valor1:\n",
    "            ind1 = node\n",
    "            valor1 = aeroportos.nodes[node]['populacao']\n",
    "            \n",
    "        if aeroportos.nodes[node]['populacao'] <= valor2:\n",
    "            ind2 = node\n",
    "            valor2 = aeroportos.nodes[node]['populacao']\n",
    "        \n",
    "    print(f'Identificador max: {ind1}')\n",
    "    \n",
    "    for key in aeroportos.nodes[ind1]:\n",
    "        print(f'{key}: {aeroportos.nodes[ind1][key]}')\n",
    "    \n",
    "    print('')  \n",
    "    print(f'Identificador min: {ind2}')\n",
    "    \n",
    "    for key in aeroportos.nodes[ind2]:\n",
    "        print(f'{key}: {aeroportos.nodes[ind2][key]}')"
   ]
  },
  {
   "cell_type": "code",
   "execution_count": 27,
   "metadata": {},
   "outputs": [
    {
     "name": "stdout",
     "output_type": "stream",
     "text": [
      "Identificador: POA\n",
      "cidade: Porto Alegre\n",
      "populacao: 1492530\n"
     ]
    }
   ],
   "source": [
    "imprime_info_aeroporto('Porto Alegre')"
   ]
  },
  {
   "cell_type": "code",
   "execution_count": 28,
   "metadata": {},
   "outputs": [
    {
     "data": {
      "text/plain": [
       "'POA'"
      ]
     },
     "execution_count": 28,
     "metadata": {},
     "output_type": "execute_result"
    }
   ],
   "source": [
    "busca_aeroporto('Porto Alegre')"
   ]
  },
  {
   "cell_type": "code",
   "execution_count": 29,
   "metadata": {},
   "outputs": [
    {
     "name": "stdout",
     "output_type": "stream",
     "text": [
      "Identificador max: SP\n",
      "cidade: São Paulo\n",
      "populacao: 12330000\n",
      "\n",
      "Identificador min: FLO\n",
      "cidade: Florianópolis\n",
      "populacao: 508826\n"
     ]
    }
   ],
   "source": [
    "max_min()"
   ]
  },
  {
   "cell_type": "markdown",
   "metadata": {
    "pycharm": {
     "name": "#%% md\n"
    }
   },
   "source": [
    "## 5. Caminho entre nós\n",
    "\n",
    "Selecione dois nós que não estão ligados por uma aresta. Usando chamadas à função\n",
    "`neighbors` do grafo, encontre um caminho entre os dois nós.\n",
    "\n",
    "**Opcional**: Crie uma função que, dados os nomes de duas cidades ou aeroportos,\n",
    "encontra um caminho entre eles."
   ]
  },
  {
   "cell_type": "code",
   "execution_count": 83,
   "metadata": {},
   "outputs": [],
   "source": [
    "# vizinhos do próximo nó do caminho...\n",
    "\n",
    "path = []\n",
    "\n",
    "def path_nodes(G, source, target):\n",
    "    \n",
    "    if source in path:\n",
    "        return\n",
    "    \n",
    "    path.append(source)\n",
    "    \n",
    "    if target in list(aeroportos.neighbors(source)):\n",
    "        path.append(target)\n",
    "        return path\n",
    "    \n",
    "    else:\n",
    "        for vizinho in list(aeroportos.neighbors(source)):\n",
    "            cam = path_nodes(G, vizinho, target) \n",
    "            \n",
    "            if cam:\n",
    "                return\n",
    "        return\n",
    "                    "
   ]
  },
  {
   "cell_type": "code",
   "execution_count": 84,
   "metadata": {},
   "outputs": [],
   "source": [
    "path_nodes(aeroportos, 'JP','FOR')"
   ]
  },
  {
   "cell_type": "code",
   "execution_count": 85,
   "metadata": {},
   "outputs": [
    {
     "data": {
      "text/plain": [
       "['JP', 'RJ', 'FOR']"
      ]
     },
     "execution_count": 85,
     "metadata": {},
     "output_type": "execute_result"
    }
   ],
   "source": [
    "path"
   ]
  },
  {
   "cell_type": "markdown",
   "metadata": {
    "pycharm": {
     "name": "#%% md\n"
    }
   },
   "source": [
    "## 6. Varredura das arestas\n",
    "\n",
    "Crie uma função que verifica se existe um vôo direto entre duas cidades ou aeroportos,\n",
    "buscando pelo nome, retornando `True` se existe e `False` caso contrário.\n",
    "\n",
    "**Opcional**: Caso tenha incluído o atributo com a distância entre as cidades, crie uma\n",
    "função que retorna a distância entre as duas cidades, se houver um vôo direto entre elas,\n",
    "ou `None` se não houver um vôo direto.\n",
    "\n",
    "**Opcional**: Caso tenha incluído o atributo com a distância entre as cidades, e tenha\n",
    "criado uma função no item anterior para encontrar uma caminho no grafo entre duas\n",
    "cidades, crie uma função que usa o caminho encontrado e calcula a soma das distâncias\n",
    "em linha reta entre as cidades no caminho."
   ]
  },
  {
   "cell_type": "code",
   "execution_count": 72,
   "metadata": {
    "pycharm": {
     "name": "#%%\n"
    }
   },
   "outputs": [],
   "source": [
    "# verifica se existe um vôo direto entre duas cidades\n",
    "def existe_voo_direto(cidade1, cidade2):\n",
    "    node1 = busca_aeroporto(cidade1)\n",
    "    node2 = busca_aeroporto(cidade2)\n",
    "    \n",
    "    if (node1,node2) in aeroportos.edges:\n",
    "        return True\n",
    "    \n",
    "    return False\n"
   ]
  },
  {
   "cell_type": "code",
   "execution_count": 73,
   "metadata": {},
   "outputs": [
    {
     "data": {
      "text/plain": [
       "True"
      ]
     },
     "execution_count": 73,
     "metadata": {},
     "output_type": "execute_result"
    }
   ],
   "source": [
    "existe_voo_direto('João Pessoa','São Paulo')"
   ]
  }
 ],
 "metadata": {
  "kernelspec": {
   "display_name": "Python 3 (ipykernel)",
   "language": "python",
   "name": "python3"
  },
  "language_info": {
   "codemirror_mode": {
    "name": "ipython",
    "version": 3
   },
   "file_extension": ".py",
   "mimetype": "text/x-python",
   "name": "python",
   "nbconvert_exporter": "python",
   "pygments_lexer": "ipython3",
   "version": "3.9.7"
  }
 },
 "nbformat": 4,
 "nbformat_minor": 1
}
